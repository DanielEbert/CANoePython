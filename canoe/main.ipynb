{
 "cells": [
  {
   "cell_type": "code",
   "execution_count": 103,
   "id": "28724173",
   "metadata": {},
   "outputs": [],
   "source": [
    "import win32com\n",
    "import time"
   ]
  },
  {
   "cell_type": "code",
   "execution_count": 2,
   "id": "a5f0b43b",
   "metadata": {},
   "outputs": [],
   "source": [
    "cfg = 'G:\\Vector\\CANoe\\Sample Configurations 16.3.110\\CAN\\CANSystemDemo\\CANSystemDemo.cfg'"
   ]
  },
  {
   "cell_type": "code",
   "execution_count": 133,
   "id": "cb443fec",
   "metadata": {},
   "outputs": [],
   "source": [
    "def hex(hexstr: str) -> bytes:\n",
    "    return bytearray.fromhex(hexstr)"
   ]
  },
  {
   "cell_type": "code",
   "execution_count": 22,
   "id": "f819e435",
   "metadata": {},
   "outputs": [],
   "source": [
    "app = win32com.client.DispatchEx(\"CANoe.Application\")"
   ]
  },
  {
   "cell_type": "code",
   "execution_count": 137,
   "id": "c29ced10",
   "metadata": {
    "scrolled": false
   },
   "outputs": [],
   "source": [
    "diag = app.Networks[1].Devices[1].Diagnostic.CreateRequestFromStream(hex('1a90'))\n",
    "diag.Send()"
   ]
  },
  {
   "cell_type": "code",
   "execution_count": 138,
   "id": "8168ae0b",
   "metadata": {},
   "outputs": [
    {
     "name": "stdout",
     "output_type": "stream",
     "text": [
      "True\n"
     ]
    }
   ],
   "source": [
    "if diag.Responses.Count > 0:\n",
    "    print(diag.Responses[0].Positive)"
   ]
  },
  {
   "cell_type": "code",
   "execution_count": 146,
   "id": "8f087418",
   "metadata": {
    "scrolled": true
   },
   "outputs": [
    {
     "name": "stdout",
     "output_type": "stream",
     "text": [
      "Comfort\n",
      "PowerTrain\n"
     ]
    }
   ],
   "source": [
    "for i in range(app.Networks.Count):\n",
    "    print(app.Networks[i].Name)"
   ]
  }
 ],
 "metadata": {
  "kernelspec": {
   "display_name": "Python 3 (ipykernel)",
   "language": "python",
   "name": "python3"
  },
  "language_info": {
   "codemirror_mode": {
    "name": "ipython",
    "version": 3
   },
   "file_extension": ".py",
   "mimetype": "text/x-python",
   "name": "python",
   "nbconvert_exporter": "python",
   "pygments_lexer": "ipython3",
   "version": "3.9.7"
  }
 },
 "nbformat": 4,
 "nbformat_minor": 5
}
